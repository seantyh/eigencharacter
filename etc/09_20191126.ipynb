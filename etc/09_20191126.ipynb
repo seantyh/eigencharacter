{
 "cells": [
  {
   "cell_type": "code",
   "execution_count": 1,
   "metadata": {},
   "outputs": [],
   "source": [
    "%load_ext autoreload\n",
    "%autoreload 2"
   ]
  },
  {
   "cell_type": "code",
   "execution_count": 2,
   "metadata": {},
   "outputs": [],
   "source": [
    "import eigencharacter as ec\n",
    "import numpy as np\n",
    "import matplotlib.pyplot as plt\n",
    "import pickle"
   ]
  },
  {
   "cell_type": "code",
   "execution_count": 12,
   "metadata": {},
   "outputs": [],
   "source": [
    "m_path = ec.get_resource_path('', 'character_M.pkl')\n",
    "with m_path.open('rb') as fin:\n",
    "    M = pickle.load(fin)\n",
    "coeff_path = ec.get_resource_path('', 'charac_coeff.pkl')\n",
    "with coeff_path.open('rb') as fin:\n",
    "    itos, stoi, ec_coeff = pickle.load(fin)\n",
    "zcoeff_path = ec.get_cache_path('VAE_zcoeff', 'vae_b_zcoeff.pkl')\n",
    "with zcoeff_path.open('rb') as fin:\n",
    "    vae_coeff = pickle.load(fin).numpy()"
   ]
  },
  {
   "cell_type": "code",
   "execution_count": 13,
   "metadata": {},
   "outputs": [],
   "source": [
    "ec_space = ec.CharacterSpace(itos, stoi, ec_coeff, n_components=50)"
   ]
  },
  {
   "cell_type": "code",
   "execution_count": 14,
   "metadata": {},
   "outputs": [],
   "source": [
    "vc_space = ec.CharacterSpace(itos, stoi, vae_coeff, n_components=50)"
   ]
  },
  {
   "cell_type": "code",
   "execution_count": 30,
   "metadata": {},
   "outputs": [],
   "source": [
    "def compare_charac_spaces(ch):\n",
    "    print(\"EC:\", ' '.join(ec_space.most_similar(ch)[1:7]))\n",
    "    print(\"VC:\", ' '.join(vc_space.most_similar(ch)[1:7]))"
   ]
  },
  {
   "cell_type": "code",
   "execution_count": 38,
   "metadata": {},
   "outputs": [
    {
     "name": "stdout",
     "output_type": "stream",
     "text": [
      "EC: 野 器 鈺 鋸 鑼 分\n",
      "VC: 野 飪 軒 丑 訐 器\n"
     ]
    }
   ],
   "source": [
    "compare_charac_spaces(\"舒\")"
   ]
  },
  {
   "cell_type": "code",
   "execution_count": 32,
   "metadata": {},
   "outputs": [
    {
     "name": "stdout",
     "output_type": "stream",
     "text": [
      "EC: 旻 星 畏 堊 厘 具\n",
      "VC: 旻 星 豆 見 具 畏\n"
     ]
    }
   ],
   "source": [
    "compare_charac_spaces(\"昱\")"
   ]
  },
  {
   "cell_type": "code",
   "execution_count": 33,
   "metadata": {},
   "outputs": [
    {
     "name": "stdout",
     "output_type": "stream",
     "text": [
      "EC: 栩 翎 翊 鞠 輸 彌\n",
      "VC: 詡 栩 翊 鞠 刈 郡\n"
     ]
    }
   ],
   "source": [
    "compare_charac_spaces(\"翔\")"
   ]
  },
  {
   "cell_type": "code",
   "execution_count": 34,
   "metadata": {},
   "outputs": [
    {
     "name": "stdout",
     "output_type": "stream",
     "text": [
      "EC: 諮 晤 誤 診 譜 謐\n",
      "VC: 諮 諾 晤 譜 詔 誤\n"
     ]
    }
   ],
   "source": [
    "compare_charac_spaces(\"語\")"
   ]
  },
  {
   "cell_type": "code",
   "execution_count": 35,
   "metadata": {},
   "outputs": [
    {
     "name": "stdout",
     "output_type": "stream",
     "text": [
      "EC: 昊 爭 旱 易 哥 歪\n",
      "VC: 昌 昊 帚 易 旱 晶\n"
     ]
    }
   ],
   "source": [
    "compare_charac_spaces(\"是\")"
   ]
  },
  {
   "cell_type": "code",
   "execution_count": null,
   "metadata": {},
   "outputs": [],
   "source": []
  }
 ],
 "metadata": {
  "kernelspec": {
   "display_name": "Python 3",
   "language": "python",
   "name": "python3"
  },
  "language_info": {
   "codemirror_mode": {
    "name": "ipython",
    "version": 3
   },
   "file_extension": ".py",
   "mimetype": "text/x-python",
   "name": "python",
   "nbconvert_exporter": "python",
   "pygments_lexer": "ipython3",
   "version": "3.7.4"
  }
 },
 "nbformat": 4,
 "nbformat_minor": 4
}
